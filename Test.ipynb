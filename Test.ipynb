{
 "cells": [
  {
   "cell_type": "code",
   "execution_count": 4,
   "metadata": {},
   "outputs": [],
   "source": [
    "from __future__ import annotations\n",
    "\n",
    "from typing import Tuple, Dict, List, Optional, Union\n",
    "\n",
    "\n",
    "# Our libraries\n",
    "import benchmarks # possibile_benchmarks -> {bm4, bm8, bm12, bm15}\n",
    "import algorithms\n",
    "import floydwarshall\n",
    "\n",
    "# Python 3 standard libraries\n",
    "import random\n",
    "import copy\n",
    "import matplotlib.pyplot as plt\n",
    "\n",
    "\n",
    "\n",
    "\n",
    "\n",
    "def make_picking_list (distances : Dict[int,Dict[int,int]], length : int) -> List[int]:\n",
    "    \"\"\"\n",
    "    Given the distance matrix concerning the whole warehouse and the length of the picking \n",
    "    list, this method returns a picking list of randomly selected locations.\n",
    "    Location 0 is never selected because it is considered to be the I/O point.\n",
    "    \n",
    "    :param distances: The distance matrix for the whole warehouse.\n",
    "    :param length: The length of the picking list.\n",
    "    :return: The picking list.\n",
    "    \n",
    "    \"\"\"\n",
    "    candidates = list(range(1, len(distances)))\n",
    "    picking_list = []\n",
    "    while len(picking_list) < length:\n",
    "        location = candidates.pop (random.randint(0, len(candidates) - 1))\n",
    "        picking_list.append (location)\n",
    "    return picking_list\n",
    "\n",
    "\n",
    "\n",
    "\n",
    "def clean_distances (picking_list : List[int], matrix : Dict[int,Dict[int,int]]) -> Dict[int,Dict[int,int]]:\n",
    "    \"\"\"\n",
    "    Given a picking list and a matrix of distances, this method filters the matrix of\n",
    "    distances keeping only the nodes visited in this specific picking list.\n",
    "    \n",
    "    :param picking_list: The picking list.\n",
    "    :param matrix: The distance matrix.\n",
    "    :return: A new distance matrix.\n",
    "    \n",
    "    \"\"\"\n",
    "    m : Dict[int,Dict[int,int]] = {}\n",
    "    pkl = [0] + list(picking_list)\n",
    "    \n",
    "    for node in pkl:\n",
    "        m[node] = {}\n",
    "        dic = matrix.get(node)\n",
    "        \n",
    "        for node2 in pkl:\n",
    "            m[node][node2] = dic.get(node2)\n",
    "\n",
    "    return m\n",
    "\n",
    "\n",
    "\n",
    "def clean_connections (picking_list : List[int], matrix : Dict[int,Dict[int,Set[int]]]) -> Dict[int,Dict[int,Set[int]]]:\n",
    "    \"\"\"\n",
    "    Given a picking list and a matrix of connections, this method filters the matrix of\n",
    "    connections keeping only the nodes visited in this specific picking list.\n",
    "    \n",
    "    :param picking_list: The picking list.\n",
    "    :param matrix: The connections matrix.\n",
    "    :return: A new connections matrix.\n",
    "    \n",
    "    \"\"\"\n",
    "    m : Dict[int,Dict[int,Set[int]]] = {}\n",
    "    pkl = [0] + list(picking_list)\n",
    "    \n",
    "    for node in pkl:\n",
    "        m[node] = {}\n",
    "        dic = matrix.get(node)\n",
    "        \n",
    "        for node2 in pkl:\n",
    "            m[node][node2] = set()\n",
    "            \n",
    "            for i in matrix[node][node2]:\n",
    "                if i in pkl:\n",
    "                    m[node][node2].add (i)\n",
    "    return m"
   ]
  },
  {
   "cell_type": "code",
   "execution_count": 5,
   "metadata": {},
   "outputs": [],
   "source": [
    "wh = floydwarshall.Warehouse (blocks = 3,\n",
    "                                   racks_per_block = 8,\n",
    "                                   locations_per_side = 11,\n",
    "                                   locations_size = (2,2),\n",
    "                                   aisles_size = 2,\n",
    "                                   crossaisles_size = 3\n",
    "                                  )\n",
    "\n",
    "distances, paths = floydwarshall.floyd_warshall (wh.graph)\n",
    "\n",
    "picking_list = make_picking_list(distances, 40) \n",
    "distance_matrix = clean_distances(picking_list, distances)\n",
    "connections_matrix = clean_connections(picking_list, paths)"
   ]
  },
  {
   "cell_type": "code",
   "execution_count": 6,
   "metadata": {},
   "outputs": [],
   "source": [
    "pso_args = {\n",
    "    'distances': distance_matrix,\n",
    "    'picking_list': picking_list,\n",
    "    'paths': connections_matrix,\n",
    "    'era': 10_000,\n",
    "    'particles': 40,\n",
    "    'max_noimp': 900,\n",
    "    'print_every': 100,\n",
    "    'finalsearch' : True,\n",
    "    'particle_data': {\n",
    "      \"beta\" : 0.7,\n",
    "      \"check_paths\" : 0.15,\n",
    "      \"deepsearch\" : 0.0,\n",
    "      \"fulldeepsearch\": 0.0,\n",
    "      \"max_depth\" : 2500,\n",
    "      \"greediness\": 0.1,\n",
    "    }\n",
    "}\n",
    "\n",
    "pso2_args = {\n",
    "    'distances': distance_matrix,\n",
    "    'picking_list': picking_list,\n",
    "    'paths': connections_matrix,\n",
    "    'era': 10_000,\n",
    "    'particles': 40,\n",
    "    'max_noimp': 900,\n",
    "    'print_every': 100,\n",
    "    'finalsearch' : False,\n",
    "    'particle_data': {\n",
    "      \"beta\" : 0.7,\n",
    "      \"check_paths\" : 0.15,\n",
    "      \"deepsearch\" : 0.1,\n",
    "      \"fulldeepsearch\": 0.5,\n",
    "      \"max_depth\" : 2500,\n",
    "      \"greediness\": 0.1,\n",
    "    }\n",
    "}\n",
    "\n",
    "pso3_args = {\n",
    "    'distances': distance_matrix,\n",
    "    'picking_list': picking_list,\n",
    "    'paths': connections_matrix,\n",
    "    'era': 10_000,\n",
    "    'particles': 30,\n",
    "    'max_noimp': 900,\n",
    "    'print_every': 100,\n",
    "    'finalsearch' : True,\n",
    "    'particle_data': {\n",
    "      \"beta\" : 0.7,\n",
    "      \"check_paths\" : 0.15,\n",
    "      \"deepsearch\" : 0.0,\n",
    "      \"fulldeepsearch\": 0.0,\n",
    "      \"max_depth\" : 2500,\n",
    "      \"greediness\": 0.1,\n",
    "    }\n",
    "}\n",
    "\n",
    "pso4_args = {\n",
    "    'distances': distance_matrix,\n",
    "    'picking_list': picking_list,\n",
    "    'paths': connections_matrix,\n",
    "    'era': 10_000,\n",
    "    'particles': 30,\n",
    "    'max_noimp': 900,\n",
    "    'print_every': 100,\n",
    "    'finalsearch' : False,\n",
    "    'particle_data': {\n",
    "      \"beta\" : 0.7,\n",
    "      \"check_paths\" : 0.15,\n",
    "      \"deepsearch\" : 0.1,\n",
    "      \"fulldeepsearch\": 0.5,\n",
    "      \"max_depth\" : 2500,\n",
    "      \"greediness\": 0.1,\n",
    "    }\n",
    "}"
   ]
  },
  {
   "cell_type": "code",
   "execution_count": 7,
   "metadata": {},
   "outputs": [],
   "source": [
    "pso = algorithms.Mattia_PSO(**pso_args)\n",
    "pso2 = algorithms.Mattia_PSO(**pso2_args)\n",
    "pso3 = algorithms.Mattia_PSO(**pso3_args)\n",
    "pso4 = algorithms.Mattia_PSO(**pso4_args)\n",
    "zhong = algorithms.Zhong_PSO (distances = distance_matrix,\n",
    "                                      picking_list=picking_list,\n",
    "                                      particles = 30,\n",
    "                                      w = 0.8,\n",
    "                                      lt = 1000,\n",
    "                                      max_iter = 10_000,\n",
    "                                      max_noimp = 900,\n",
    "                                      print_every = 100\n",
    "                             )"
   ]
  },
  {
   "cell_type": "code",
   "execution_count": 8,
   "metadata": {},
   "outputs": [],
   "source": [
    "from algorithms.utils import Race"
   ]
  },
  {
   "cell_type": "code",
   "execution_count": 10,
   "metadata": {},
   "outputs": [
    {
     "name": "stdout",
     "output_type": "stream",
     "text": [
      "Mattia_PSO [1/5]Mattia_PSO [2/5]\n",
      "\n",
      "Mattia_PSO [3/5]Mattia_PSO [4/5]\n",
      "Mattia_PSO [5/5]\n",
      "\n",
      "592 5960 27.175536394119263\n",
      "596 86111 28.35066533088684\n",
      "608 75833 28.2583224773407\n",
      "592 185204 33.43187403678894\n",
      "596 88769 21.610538959503174\n"
     ]
    }
   ],
   "source": [
    "race = Race([pso])\n",
    "race(n=5)\n",
    "for res in race.results:\n",
    "    print(res[\"cost\"], res[\"computations\"], res[\"time\"])"
   ]
  },
  {
   "cell_type": "code",
   "execution_count": 11,
   "metadata": {},
   "outputs": [
    {
     "name": "stdout",
     "output_type": "stream",
     "text": [
      "Mattia_PSO [1/5]\n",
      "Mattia_PSO [2/5]\n",
      "Mattia_PSO [3/5]Mattia_PSO [4/5]\n",
      "Mattia_PSO [5/5]\n",
      "\n",
      "580 6292114 453.10235023498535\n",
      "580 4795719 348.40981435775757\n",
      "580 712160 299.09872579574585\n",
      "580 755378 247.13452911376953\n",
      "580 6064547 361.99502825737\n"
     ]
    }
   ],
   "source": [
    "race = Race([pso2])\n",
    "race(n=5)\n",
    "for res in race.results:\n",
    "    print(res[\"cost\"], res[\"computations\"], res[\"time\"])"
   ]
  },
  {
   "cell_type": "code",
   "execution_count": 12,
   "metadata": {},
   "outputs": [
    {
     "name": "stdout",
     "output_type": "stream",
     "text": [
      "Mattia_PSO [1/5]Mattia_PSO [2/5]\n",
      "\n",
      "Mattia_PSO [3/5]Mattia_PSO [4/5]\n",
      "\n",
      "Mattia_PSO [5/5]\n",
      "628 96933 16.141084909439087\n",
      "596 51111 28.25708842277527\n",
      "584 71322 32.52517223358154\n",
      "580 54075 19.18925905227661\n",
      "604 197163 22.02628207206726\n"
     ]
    }
   ],
   "source": [
    "race = Race([pso3])\n",
    "race(n=5)\n",
    "for res in race.results:\n",
    "    print(res[\"cost\"], res[\"computations\"], res[\"time\"])"
   ]
  },
  {
   "cell_type": "code",
   "execution_count": 13,
   "metadata": {},
   "outputs": [
    {
     "name": "stdout",
     "output_type": "stream",
     "text": [
      "Mattia_PSO [2/5]Mattia_PSO [1/5]Mattia_PSO [3/5]\n",
      "Mattia_PSO [4/5]\n",
      "\n",
      "\n",
      "Mattia_PSO [5/5]\n",
      "580 2234460 263.01098895072937\n",
      "580 5122251 258.56687784194946\n",
      "580 383667 180.80460119247437\n",
      "580 2024607 257.4478394985199\n",
      "580 4416279 302.02969670295715\n"
     ]
    }
   ],
   "source": [
    "race = Race([pso4])\n",
    "race(n=5)\n",
    "for res in race.results:\n",
    "    print(res[\"cost\"], res[\"computations\"], res[\"time\"])"
   ]
  },
  {
   "cell_type": "code",
   "execution_count": 14,
   "metadata": {},
   "outputs": [
    {
     "name": "stdout",
     "output_type": "stream",
     "text": [
      "Zhong_PSO [1/5]\n",
      "Zhong_PSO [2/5]\n",
      "Zhong_PSO [3/5]\n",
      "Zhong_PSO [4/5]\n",
      "Zhong_PSO [5/5]\n",
      "580 71892 58.070708990097046\n",
      "580 59433 59.76802349090576\n",
      "580 97161 67.07068467140198\n",
      "580 75813 34.13342046737671\n",
      "580 70173 52.096745014190674\n"
     ]
    }
   ],
   "source": [
    "race = Race([zhong])\n",
    "race(n=5)\n",
    "for res in race.results:\n",
    "    print(res[\"cost\"], res[\"computations\"], res[\"time\"])"
   ]
  },
  {
   "cell_type": "code",
   "execution_count": null,
   "metadata": {},
   "outputs": [],
   "source": []
  }
 ],
 "metadata": {
  "kernelspec": {
   "display_name": "Python 3",
   "language": "python",
   "name": "python3"
  },
  "language_info": {
   "codemirror_mode": {
    "name": "ipython",
    "version": 3
   },
   "file_extension": ".py",
   "mimetype": "text/x-python",
   "name": "python",
   "nbconvert_exporter": "python",
   "pygments_lexer": "ipython3",
   "version": "3.8.3"
  }
 },
 "nbformat": 4,
 "nbformat_minor": 4
}
